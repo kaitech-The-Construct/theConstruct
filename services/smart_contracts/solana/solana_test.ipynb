{
 "cells": [
  {
   "cell_type": "code",
   "execution_count": null,
   "metadata": {},
   "outputs": [],
   "source": [
    "!pip install solana"
   ]
  },
  {
   "cell_type": "code",
   "execution_count": 2,
   "metadata": {},
   "outputs": [],
   "source": [
    "from solana.rpc.api import Client\n",
    "from solana.transaction import Pubkey, Transaction, AccountMeta\n",
    "from base58 import b58encode, b58decode as b58d\n",
    "from base64 import b64decode as b64d \n",
    "b58e = lambda x: b58encode(x).decode('ascii')"
   ]
  },
  {
   "cell_type": "code",
   "execution_count": 3,
   "metadata": {},
   "outputs": [],
   "source": [
    "url_devnet = \"https://api.devnet.solana.com\"\n",
    "url_mainnet = \"https://api.mainnet-beta.solana.com\"\n",
    "url_testnet = \"https://api.testnet.solana.com\""
   ]
  },
  {
   "cell_type": "code",
   "execution_count": 4,
   "metadata": {},
   "outputs": [],
   "source": [
    "client = Client(url_devnet)"
   ]
  },
  {
   "cell_type": "code",
   "execution_count": 5,
   "metadata": {},
   "outputs": [],
   "source": [
    "test_account_1 = \"DFn5xHxmWHu12rbCn658668p7LUcVzhyemat3p3RkcQ9\"\n",
    "test_account_2 = \"GWbH5iQqdC3FMTKHu1bDYNocknp42ZPNg6GU9wgLJFgt\"\n",
    "key1 = Pubkey.from_string(test_account_1)\n",
    "key2 = Pubkey.from_string(test_account_2)\n",
    "\n",
    "programs = [\n",
    "        \"vines1vzrYbzLMRdu58ou5XTby4qAqVRLmqo36NKPTg\",\n",
    "        \"4fYNw3dojWmQ4dXtSGE9epjRGy9pFSx62YypT7avPYvA\"\n",
    "      ]\n",
    "keys = lambda x : Pubkey.from_string(programs[x])"
   ]
  },
  {
   "cell_type": "code",
   "execution_count": 35,
   "metadata": {},
   "outputs": [
    {
     "data": {
      "text/plain": [
       "[Pubkey(\n",
       "     vines1vzrYbzLMRdu58ou5XTby4qAqVRLmqo36NKPTg,\n",
       " ),\n",
       " Pubkey(\n",
       "     4fYNw3dojWmQ4dXtSGE9epjRGy9pFSx62YypT7avPYvA,\n",
       " )]"
      ]
     },
     "execution_count": 35,
     "metadata": {},
     "output_type": "execute_result"
    }
   ],
   "source": [
    "keys = [keys(0),keys(1)]\n",
    "keys"
   ]
  },
  {
   "cell_type": "code",
   "execution_count": 8,
   "metadata": {},
   "outputs": [],
   "source": [
    "account = client.request_airdrop(pubkey=key1,lamports=5000000000)\n",
    "client.send_transaction()\n",
    "# account_balance = client.get_balance(key)\n",
    "# program_account = client.get_program_accounts(key)\n",
    "# program_accounts = client.get_multiple_accounts(keys)\n",
    "# program_accounts"
   ]
  },
  {
   "cell_type": "code",
   "execution_count": 9,
   "metadata": {},
   "outputs": [
    {
     "data": {
      "text/plain": [
       "RequestAirdropResp(\n",
       "    Signature(\n",
       "        YcR62Y8ATKwvGeYnXxtSrC5Jj6DAfE8qNE17AfAPPs2jCvmmz6LHcyHoVZpg9uPKiGXvHREaPEYtoicVjDGW6bj,\n",
       "    ),\n",
       ")"
      ]
     },
     "execution_count": 9,
     "metadata": {},
     "output_type": "execute_result"
    }
   ],
   "source": [
    "account"
   ]
  },
  {
   "cell_type": "code",
   "execution_count": null,
   "metadata": {},
   "outputs": [],
   "source": []
  }
 ],
 "metadata": {
  "kernelspec": {
   "display_name": "Python 3",
   "language": "python",
   "name": "python3"
  },
  "language_info": {
   "codemirror_mode": {
    "name": "ipython",
    "version": 3
   },
   "file_extension": ".py",
   "mimetype": "text/x-python",
   "name": "python",
   "nbconvert_exporter": "python",
   "pygments_lexer": "ipython3",
   "version": "3.11.3"
  }
 },
 "nbformat": 4,
 "nbformat_minor": 2
}
